{
  "nbformat": 4,
  "nbformat_minor": 0,
  "metadata": {
    "colab": {
      "provenance": [],
      "authorship_tag": "ABX9TyOi7VSr5WvB61eFHnC9dKn2",
      "include_colab_link": true
    },
    "kernelspec": {
      "name": "python3",
      "display_name": "Python 3"
    },
    "language_info": {
      "name": "python"
    }
  },
  "cells": [
    {
      "cell_type": "markdown",
      "metadata": {
        "id": "view-in-github",
        "colab_type": "text"
      },
      "source": [
        "<a href=\"https://colab.research.google.com/github/zhalehk/Deep_Learning_Machine_Learning/blob/main/Untitled10.ipynb\" target=\"_parent\"><img src=\"https://colab.research.google.com/assets/colab-badge.svg\" alt=\"Open In Colab\"/></a>"
      ]
    },
    {
      "cell_type": "code",
      "execution_count": 1,
      "metadata": {
        "colab": {
          "base_uri": "https://localhost:8080/"
        },
        "id": "fIFp77jck9Uv",
        "outputId": "4a7847d4-fb79-4c15-ba23-4b1307153d32"
      },
      "outputs": [
        {
          "output_type": "stream",
          "name": "stdout",
          "text": [
            "Archive:  XAI-lab.zip\n",
            "fead02b4e0ef5386b2e661e13fa7edd92dece6a6\n",
            "   creating: XAI-lab/\n",
            "   creating: XAI-lab/causal_lab/\n",
            "  inflating: XAI-lab/causal_lab/README.md  \n",
            "  inflating: XAI-lab/causal_lab/anomaly_detection.py  \n",
            "  inflating: XAI-lab/causal_lab/learn_causal.py  \n",
            "   creating: XAI-lab/causal_lab/models/\n",
            "  inflating: XAI-lab/causal_lab/models/pepper_normal_07.npz  \n",
            "   creating: XAI-lab/causal_lab/pepper_csv/\n",
            "  inflating: XAI-lab/causal_lab/pepper_csv/JointControl.csv  \n",
            "  inflating: XAI-lab/causal_lab/pepper_csv/LedsControl.csv  \n",
            "  inflating: XAI-lab/causal_lab/pepper_csv/WheelsControl.csv  \n",
            "  inflating: XAI-lab/causal_lab/pepper_csv/attack.csv  \n",
            "  inflating: XAI-lab/causal_lab/pepper_csv/normal.csv  \n",
            "  inflating: XAI-lab/causal_lab/tigramite_tutorial_assumptions.ipynb  \n",
            "  inflating: XAI-lab/causal_lab/tigramite_tutorial_prediction.ipynb  \n"
          ]
        }
      ],
      "source": [
        "! unzip XAI-lab.zip\n"
      ]
    }
  ]
}